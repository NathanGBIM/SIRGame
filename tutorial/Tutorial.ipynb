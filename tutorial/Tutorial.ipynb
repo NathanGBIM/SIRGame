{
 "cells": [
  {
   "cell_type": "markdown",
   "metadata": {},
   "source": [
    "SIRGame aims to simulate an infectious virus epidemic following a classic SIR type model.\n",
    "\n",
    "To that end, we will simulate a population (which individuals are named \"agents\"), evolving on a toric grid world. The dimension of the grid, number of agent and the parameter of the epidemic model are all customizable in an user-friendly way.\n",
    "\n",
    "To learn more about the context of the project, we invite you to read the \"readme.md\" file, and the instructions we had which are described in the \"tp-SIR.pdf\" file.\n",
    "\n",
    "This notebook aims to teach you how to use SIRGame and show you all its functionalities.\n"
   ]
  },
  {
   "cell_type": "markdown",
   "metadata": {},
   "source": [
    "To use SIRGame, you first need to install tkinter as follow:"
   ]
  },
  {
   "cell_type": "code",
   "execution_count": 1,
   "metadata": {},
   "outputs": [],
   "source": [
    "import tkinter as tk"
   ]
  },
  {
   "cell_type": "markdown",
   "metadata": {},
   "source": [
    "You can then start a simulation by executing the \"gui.py\" file. "
   ]
  },
  {
   "cell_type": "code",
   "execution_count": 3,
   "metadata": {},
   "outputs": [],
   "source": [
    "%run -i \"../gui.py\""
   ]
  },
  {
   "cell_type": "markdown",
   "metadata": {},
   "source": [
    "You should then have the following window poping-up:\n",
    "<img src=\"./Capture1.jpg\">"
   ]
  },
  {
   "cell_type": "markdown",
   "metadata": {},
   "source": [
    "Our first step is to create the grid. To that end, we got to select a grid dimension with the \"grid size\" pannel, and then click the \"create grid\" button.\n",
    "<img src=\"./Capture2.jpg\">"
   ]
  },
  {
   "cell_type": "markdown",
   "metadata": {},
   "source": [
    "The next step consists in creating the agents of the population. The \"number of agents\" pannel allows to decide of its size, and the \"initial fraction of infected\" controls the proportion of the population which is infected at t=0.\n",
    "\n",
    "The other 3 pannel allow you to decide of the probability of infection of a susceptible agent when entering in contact with an infected one, and the probability of recovery and death of an infected agent at each time step.\n",
    "\n",
    "Once we decided the parameters, we can create the population by clicking the \"Create agents\" button.\n",
    "\n",
    "<img src=\"./Capture3.jpg\">"
   ]
  },
  {
   "cell_type": "markdown",
   "metadata": {},
   "source": [
    "You can then start the simulation by clicking the \"Play/Pause\" button on the bottom right of the window.\n",
    "\n",
    "The agents are represented by dots (green for susceptible, red for infected, blue for recovered and gray for dead).\n",
    "\n",
    "You can speed up or slow down the simulation using the \"Speed\" pannel, and pause it at any time using the \"Play/Pause\" button.\n",
    "\n",
    "The stats and time step of the simulation are displayed at the bottom right."
   ]
  },
  {
   "cell_type": "markdown",
   "metadata": {},
   "source": [
    "This software is still in its early phase of development, and some functionality are yet to be implemented. Among those:\n",
    "\n",
    "-The \"Set Obstacles\" button aims to create obstacle where the agents can't go. While working properly, the wall created is not displayed in the current version of the build.\n",
    "\n",
    "-The \"Select output file\" button aims to allow the user to extract the data of his simulation into a .txt file. It has not be implemented yet."
   ]
  },
  {
   "cell_type": "markdown",
   "metadata": {},
   "source": [
    "SIRGame\n",
    "\n",
    "Copyright © 2020 Nathan GAUTHIER\n",
    "\n",
    "Permission is hereby granted, free of charge, to any person obtaining a copy of this software \n",
    "and associated documentation files (the \"Software\"), to deal in the Software without restriction, \n",
    "including without limitation the rights to use, copy, modify, merge, publish, distribute, sublicense, \n",
    "and/or sell copies of the Software, and to permit persons to whom the Software is furnished to do so, \n",
    "subject to the following conditions:\n",
    "\n",
    "The above copyright notice and this permission notice shall be included in all copies or \n",
    "substantial portions of the Software.\n",
    "\n",
    "THE SOFTWARE IS PROVIDED \"AS IS\", WITHOUT WARRANTY OF ANY KIND, EXPRESS OR IMPLIED, \n",
    "INCLUDING BUT NOT LIMITED TO THE WARRANTIES OF MERCHANTABILITY, FITNESS FOR A PARTICULAR \n",
    "PURPOSE AND NONINFRINGEMENT. IN NO EVENT SHALL THE AUTHORS OR COPYRIGHT HOLDERS BE LIABLE \n",
    "FOR ANY CLAIM, DAMAGES OR OTHER LIABILITY, WHETHER IN AN ACTION OF CONTRACT, TORT OR OTHERWISE, \n",
    "ARISING FROM, OUT OF OR IN CONNECTION WITH THE SOFTWARE OR THE USE OR OTHER DEALINGS IN THE SOFTWARE.\n"
   ]
  }
 ],
 "metadata": {
  "celltoolbar": "Aucun(e)",
  "kernelspec": {
   "display_name": "Python 3",
   "language": "python",
   "name": "python3"
  },
  "language_info": {
   "codemirror_mode": {
    "name": "ipython",
    "version": 3
   },
   "file_extension": ".py",
   "mimetype": "text/x-python",
   "name": "python",
   "nbconvert_exporter": "python",
   "pygments_lexer": "ipython3",
   "version": "3.7.1"
  }
 },
 "nbformat": 4,
 "nbformat_minor": 2
}
